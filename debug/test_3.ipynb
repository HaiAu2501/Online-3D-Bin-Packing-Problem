{
 "cells": [
  {
   "cell_type": "code",
   "execution_count": 1,
   "metadata": {},
   "outputs": [],
   "source": [
    "import os\n",
    "import sys\n",
    "import numpy as np\n",
    "\n",
    "sys.path.append(os.path.abspath('..'))\n",
    "\n",
    "from env.env import BinPacking3DEnv\n",
    "from search.mcts import MCTS"
   ]
  },
  {
   "cell_type": "code",
   "execution_count": null,
   "metadata": {},
   "outputs": [],
   "source": [
    "env = BinPacking3DEnv(\n",
    "\tbin_size=(5, 5, 5),\n",
    "\titems=[(2, 3, 1), (2, 2, 4), (1, 2, 2), (3, 3, 2), (1, 1, 1)],\n",
    "\tbuffer_size=2,\n",
    "\tnum_rotations=2,\n",
    "\tmax_ems=100,\n",
    ")\n",
    "\n",
    "\n",
    "mcts = MCTS(\n",
    "\tenv=env,\n",
    "\tn_simulations=1,\n",
    ")"
   ]
  }
 ],
 "metadata": {
  "kernelspec": {
   "display_name": "Python 3",
   "language": "python",
   "name": "python3"
  },
  "language_info": {
   "codemirror_mode": {
    "name": "ipython",
    "version": 3
   },
   "file_extension": ".py",
   "mimetype": "text/x-python",
   "name": "python",
   "nbconvert_exporter": "python",
   "pygments_lexer": "ipython3",
   "version": "3.12.0"
  }
 },
 "nbformat": 4,
 "nbformat_minor": 2
}
